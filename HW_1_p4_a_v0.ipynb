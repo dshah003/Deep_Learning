{
 "cells": [
  {
   "cell_type": "markdown",
   "metadata": {},
   "source": [
    "### Problem 4"
   ]
  },
  {
   "cell_type": "code",
   "execution_count": 26,
   "metadata": {},
   "outputs": [
    {
     "name": "stdout",
     "output_type": "stream",
     "text": [
      "Populating the interactive namespace from numpy and matplotlib\n"
     ]
    },
    {
     "name": "stderr",
     "output_type": "stream",
     "text": [
      "C:\\Users\\12403\\AppData\\Local\\Continuum\\anaconda3\\lib\\site-packages\\IPython\\core\\magics\\pylab.py:160: UserWarning: pylab import has clobbered these variables: ['random']\n",
      "`%matplotlib` prevents importing * from pylab and numpy\n",
      "  \"\\n`%matplotlib` prevents importing * from pylab and numpy\"\n"
     ]
    }
   ],
   "source": [
    "import numpy as np\n",
    "import random\n",
    "import matplotlib.pyplot as plt\n",
    "\n",
    "%matplotlib inline\n",
    "%pylab inline"
   ]
  },
  {
   "cell_type": "code",
   "execution_count": 27,
   "metadata": {},
   "outputs": [],
   "source": [
    "class ReLU_network():\n",
    "    def __init__(self, x,y, layerDimensions):\n",
    "        self.parameters = {} #Creating a Python Dictonary to Hold Weight and Bias Parameters.\n",
    "        self.L = len(layerDimensions)  #Number of Layers in the Network.\n",
    "        for l in range(1,self.L):\n",
    "            self.parameters['W' + str(l)] = np.random.randn(layerDimensions[l], layerDimensions[l-1])\n",
    "            self.parameters['b' + str(l)] = np.random.randn(layerDimensions[l], 1)\n",
    "        self.A = {}\n",
    "        self.Z = {}\n",
    "        self.y = y\n",
    "        self.x = x\n",
    "        self.m = len(x)\n",
    "        self.Z['Z0'] = x\n",
    "        self.deltas = {}\n",
    "        \n",
    "            \n",
    "    def sigmoid(self, z):\n",
    "        return 1/(1+np.exp(-z))\n",
    "    \n",
    "    def dsigmoid(self, z):\n",
    "        return np.exp(-z)/(np.power((1+np.exp(-z)),2))\n",
    "    \n",
    "    def cross_entropy(self, y,a_out):\n",
    "        return -y*np.log(a_out)-(1-y)*np.log(1-a_out)\n",
    "    \n",
    "    def Feedforward(self, x):\n",
    "        self.A['A0'] = x\n",
    "        for l in range(1, self.L):\n",
    "            self.Z['Z' + str(l)] = np.dot(self.A['A' + str(l-1)], self.parameters['W' + str(l)].T ) + self.parameters['b' + str(l)].T\n",
    "            self.A['A' + str(l)] = self.sigmoid(self.Z['Z' + str(l)])   \n",
    "        return self.A['A' + str(self.L - 1)]\n",
    "        \n",
    "    def costFunction(self):\n",
    "        self.A['A0'] = self.x\n",
    "        self.A['A'+ str(self.L-1)] = self.Feedforward(self.x)\n",
    "        cost = 0\n",
    "        for i in range(self.m):\n",
    "            cost = cost + self.cross_entropy(self.y[i], self.A['A'+str(self.L-1)][i])\n",
    "        return cost\n",
    "    \n",
    "    \n",
    "    def deltaCost(self):\n",
    "        L = self.L\n",
    "        \n",
    "        self.A['A'+ str(L-1)] = self.Feedforward(self.x)\n",
    "        self.deltas['delta' + str(L-1)] = np.multiply(-(self.y - self.A['A'+ str(self.L-1)]), self.dsigmoid(self.Z['Z'+ str(self.L-1)]))\n",
    "        \n",
    "        for l in range(L-1, 0, -1):\n",
    "            self.deltas['dW' + str(l)] = np.dot(self.A['A' + str(l-1)].T, self.deltas[\"delta\" + str(l)])\n",
    "            self.deltas['db' + str(l)] = np.sum(self.deltas[\"delta\" + str(l)])\n",
    "            \n",
    "            self.deltas[\"delta\" + str(l-1)] = np.multiply(np.dot(self.deltas[\"delta\" + str(l)], self.parameters['W' + str(l)] ), self.dsigmoid(self.Z['Z' + str(l-1)]))\n",
    "        return self.deltas\n",
    "    \n",
    "    def UpdateParameters(self):\n",
    "        for l in range(1,self.L):\n",
    "            self.parameters['W' + str(l)] = self.parameters['W' + str(l)] - (alpha * self.deltas['dW' + str(l)]).T\n",
    "            self.parameters['b' + str(l)] = self.parameters['b' + str(l)] - (alpha * self.deltas['db' + str(l)]).T\n",
    "            \n",
    "    def getFinalParam(self):\n",
    "        W = self.parameters['W'+str(self.L-1)]\n",
    "        b = self.parameters['b'+str(self.L-1)]\n",
    "        return W,b\n",
    "    \n",
    "        \n",
    "\n",
    "               "
   ]
  },
  {
   "cell_type": "code",
   "execution_count": 28,
   "metadata": {},
   "outputs": [],
   "source": [
    "# For 5 hidden Layers:"
   ]
  },
  {
   "cell_type": "code",
   "execution_count": 29,
   "metadata": {},
   "outputs": [],
   "source": [
    "def GenerateTestData(Size):\n",
    "    d = 1  # dimension \n",
    "    m = 20 # number of training samples \n",
    "    c = 2 # parameter controlling seperation between the clusters\n",
    "    sigma1 = 1.5 #Sigma^2_1\n",
    "    sigma2 = sigma1 #Sigma^2_2\n",
    "    m1 = c*np.array([1]) #Mu_1\n",
    "    m2 = -m1 #Mu_2 \n",
    "\n",
    "    x1 = np.random.multivariate_normal(m1,sigma1*np.identity(d),int(m/2)) \n",
    "    x2 = np.random.multivariate_normal(m2,sigma2*np.identity(d),int(m/2)) \n",
    "    x = np.concatenate((x1,x2),axis=0)\n",
    "\n",
    "    y1 = np.ones((int(m/2),1))\n",
    "    y2 = np.ones((int(m/2),1))\n",
    "    y = np.concatenate((y1,y2),axis=0)\n",
    "    plot(x1[:,0], '.')\n",
    "    plot(x2[:,0], '.')\n",
    "    title(\"Gaussian Clusters\")\n",
    "    legend([\"x1\", \"x2\"])\n",
    "    return x,y, x1,x2"
   ]
  },
  {
   "cell_type": "code",
   "execution_count": 30,
   "metadata": {},
   "outputs": [
    {
     "data": {
      "image/png": "[encoded data removed]",
      "text/plain": [
       "<Figure size 432x288 with 1 Axes>"
      ]
     },
     "metadata": {
      "needs_background": "light"
     },
     "output_type": "display_data"
    }
   ],
   "source": [
    "x,y,x1,x2 = GenerateTestData(30)\n"
   ]
  },
  {
   "cell_type": "code",
   "execution_count": 31,
   "metadata": {},
   "outputs": [
    {
     "data": {
      "text/plain": [
       "'\\nThis means 5 input parameters. 4 Neurons in the first (Hidden) layer, and 3 Neurons in second (Output) layer.\\n'"
      ]
     },
     "execution_count": 31,
     "metadata": {},
     "output_type": "execute_result"
    }
   ],
   "source": [
    "NN = ReLU_network(x, y, [1,3,2,5,1])\n",
    "\n",
    "\"\"\"\n",
    "This means 5 input parameters. 4 Neurons in the first (Hidden) layer, and 3 Neurons in second (Output) layer.\n",
    "\"\"\"\n"
   ]
  },
  {
   "cell_type": "code",
   "execution_count": 32,
   "metadata": {},
   "outputs": [],
   "source": [
    "# This is how you access dictionary parameters:\n",
    "# NN.parameters[W1]"
   ]
  },
  {
   "cell_type": "code",
   "execution_count": 33,
   "metadata": {},
   "outputs": [
    {
     "data": {
      "text/plain": [
       "[<matplotlib.lines.Line2D at 0x218be10f4e0>]"
      ]
     },
     "execution_count": 33,
     "metadata": {},
     "output_type": "execute_result"
    },
    {
     "data": {
      "image/png": "[encoded data removed]",
      "text/plain": [
       "<Figure size 432x288 with 1 Axes>"
      ]
     },
     "metadata": {
      "needs_background": "light"
     },
     "output_type": "display_data"
    }
   ],
   "source": [
    "\n",
    "Output = NN.Feedforward(x)\n",
    "plot(Output, '.')"
   ]
  },
  {
   "cell_type": "code",
   "execution_count": 34,
   "metadata": {},
   "outputs": [
    {
     "data": {
      "text/plain": [
       "array([14.98360084])"
      ]
     },
     "execution_count": 34,
     "metadata": {},
     "output_type": "execute_result"
    }
   ],
   "source": [
    "cost = NN.costFunction()\n",
    "cost"
   ]
  },
  {
   "cell_type": "code",
   "execution_count": 35,
   "metadata": {},
   "outputs": [],
   "source": [
    "delta = NN.deltaCost()"
   ]
  },
  {
   "cell_type": "code",
   "execution_count": 36,
   "metadata": {},
   "outputs": [
    {
     "name": "stdout",
     "output_type": "stream",
     "text": [
      "Final Cost = 1.5850866243839665\n"
     ]
    },
    {
     "data": {
      "image/png": "[encoded data removed]",
      "text/plain": [
       "<Figure size 432x288 with 1 Axes>"
      ]
     },
     "metadata": {
      "needs_background": "light"
     },
     "output_type": "display_data"
    }
   ],
   "source": [
    "NumOfIterations = 150\n",
    "alpha = 0.01\n",
    "CostTracker = np.zeros(NumOfIterations)\n",
    "for i in range(NumOfIterations):\n",
    "    deltas = NN.deltaCost()\n",
    "    NN.UpdateParameters()\n",
    "    Output_New = NN.Feedforward(x)\n",
    "    CostTracker[i] = NN.costFunction()\n",
    "w, b = NN.getFinalParam()\n",
    "plot(CostTracker)\n",
    "print(\"Final Cost = \" + str(CostTracker[NumOfIterations-1]))"
   ]
  },
  {
   "cell_type": "code",
   "execution_count": 37,
   "metadata": {},
   "outputs": [
    {
     "data": {
      "text/plain": [
       "<matplotlib.legend.Legend at 0x218bdc5bef0>"
      ]
     },
     "execution_count": 37,
     "metadata": {},
     "output_type": "execute_result"
    },
    {
     "data": {
      "image/png": "[encoded data removed]",
      "text/plain": [
       "<Figure size 432x288 with 1 Axes>"
      ]
     },
     "metadata": {
      "needs_background": "light"
     },
     "output_type": "display_data"
    }
   ],
   "source": [
    "# plot(Output_New)\n",
    "plt.plot(x1[:,0],'o')\n",
    "plt.plot(x2[:,0],'o')\n",
    "# plot(x, 'o')\n",
    "\n",
    "p = np.linspace(1,10,10).reshape(-1,1)\n",
    "y = w[0]*p + (b/30)\n",
    "plot(y[:,0])\n",
    "legend(['Output_New'])"
   ]
  }
 ],
 "metadata": {
  "kernelspec": {
   "display_name": "Python 3",
   "language": "python",
   "name": "python3"
  },
  "language_info": {
   "codemirror_mode": {
    "name": "ipython",
    "version": 3
   },
   "file_extension": ".py",
   "mimetype": "text/x-python",
   "name": "python",
   "nbconvert_exporter": "python",
   "pygments_lexer": "ipython3",
   "version": "3.7.0"
  }
 },
 "nbformat": 4,
 "nbformat_minor": 2
}
