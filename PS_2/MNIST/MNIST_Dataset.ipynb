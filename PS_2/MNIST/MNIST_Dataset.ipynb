{
 "cells": [
  {
   "cell_type": "markdown",
   "metadata": {},
   "source": [
    "# Training MNIST Dataset"
   ]
  },
  {
   "cell_type": "markdown",
   "metadata": {},
   "source": [
    "By Darshan Shah"
   ]
  },
  {
   "cell_type": "markdown",
   "metadata": {},
   "source": [
    "### Approach \n",
    "\n",
    "I have used tensorflow and keras (as backend) to create the Neural network and Used Tensorboard for Visualization and Analysis.  \n",
    "The Following is the workflow I followed:  \n",
    "**1. Load the Data**  \n",
    " The entire given dataset is extracted from npy files using the numpy load function. The training and test dataset are saved in their respective variables.\n",
    " \n",
    "**2. Normalization**   \n",
    "It was observed that the given dataset, pixel values ranges from 0-255. So as a preprocessing step the test and traininig data are both bought within a range of 0-1 for easier processing and efficient training.  \n",
    "\n",
    "**3. Define the Model**  \n",
    "For this network, I tried exploring various options such as Convolution layers, fully connected layers, and different activation functions.  \n",
    "After some experimentation, I found I was able to achieve about 97% accuracy using dense layers. The convolution layers took longer to fit (obviously) and it was getting trickier to tune the hyperparamters. Hence decided to continue with dense layers.\n",
    "I started out with using a Single Hidden Layer and achieved the accuracy of about 68% after 2 Epochs. Adding another layer boosted the accuracy to about 93% after 2 Epochs. I was able to boost this number by tweaking number of neurons.  \n",
    "For the output layer,it consists of 10 neurons each fires up corresponding to the detected number being from 0 -10. The Softmax activation function is used so as to get a probablity distribution corresponding to each number.  \n",
    "\n",
    "**4. Configure Model**   \n",
    "We configure the model for training by defining the Optimizer, Loss calculation methodology and the metrics which we are looking to get from out model.  \n",
    "\n",
    "**5. Fit Model**  \n",
    "Finally, we train our model. We callback to a tensorboard method which logs data for plotting and visualization purposes.  \n",
    "\n",
    "**6. Validation**  \n",
    "The Valitation data is used to test how good the model has learnt from our training data. Based on how well the model performs with the validation data, we can analyse if the model is overfitting, underfitting, or just good."
   ]
  },
  {
   "cell_type": "markdown",
   "metadata": {},
   "source": [
    "### Analysis"
   ]
  },
  {
   "cell_type": "code",
   "execution_count": 19,
   "metadata": {},
   "outputs": [
    {
     "name": "stdout",
     "output_type": "stream",
     "text": [
      "_________________________________________________________________\n",
      "Layer (type)                 Output Shape              Param #   \n",
      "=================================================================\n",
      "flatten (Flatten)            multiple                  0         \n",
      "_________________________________________________________________\n",
      "dense (Dense)                multiple                  100480    \n",
      "_________________________________________________________________\n",
      "dense_1 (Dense)              multiple                  16512     \n",
      "_________________________________________________________________\n",
      "dense_2 (Dense)              multiple                  1290      \n",
      "=================================================================\n",
      "Total params: 118,282\n",
      "Trainable params: 118,282\n",
      "Non-trainable params: 0\n",
      "_________________________________________________________________\n"
     ]
    }
   ],
   "source": [
    "model.summary()"
   ]
  },
  {
   "cell_type": "markdown",
   "metadata": {},
   "source": [
    "**Plots from Tensorboard**"
   ]
  },
  {
   "cell_type": "markdown",
   "metadata": {},
   "source": [
    "Accuracy changes in terms of Batch and Epochs  \n",
    "\n",
    "![Batch Accuracy](../../../Pictures/MNIST/Batch_acc.png)\n",
    "![Batch Loss](../../../Pictures/MNIST/Batch_loss.png)\n",
    "![Epoch Accuracy_Loss](../../../Pictures/MNIST/Epoch_acc_loss.png)\n",
    "![Epoch_Validation_Accuracy](../../../Pictures/MNIST/Epoch_val_acc.png)\n",
    "\n",
    "The faded blue linnes indicates the results of previous iterations during experimentation."
   ]
  },
  {
   "cell_type": "markdown",
   "metadata": {},
   "source": [
    "**Distribution of Biases Across Layers:**\n",
    "\n",
    "The following plots show the distribution of biases across different layers. It is evident from these plots that the biases are non-zero for these layers.\n",
    "![Bias_Distribution](../../../Pictures/MNIST/Bias_dist.png)\n",
    "\n",
    "**Bias Historgrams**\n",
    "![Bias_Histogram](../../../Pictures/MNIST/Bias_hist.png)\n"
   ]
  },
  {
   "cell_type": "markdown",
   "metadata": {},
   "source": [
    "## Code"
   ]
  },
  {
   "cell_type": "code",
   "execution_count": 3,
   "metadata": {},
   "outputs": [],
   "source": [
    "import tensorflow as tf\n",
    "import numpy as np\n",
    "import matplotlib.pyplot as plt\n",
    "import keras\n",
    "from time import time\n",
    "from tensorflow.python.keras.callbacks import TensorBoard\n",
    "%matplotlib inline"
   ]
  },
  {
   "cell_type": "code",
   "execution_count": 4,
   "metadata": {},
   "outputs": [],
   "source": [
    "# (x_train, y_train),(x_test, y_test) = mnist.load_data()\n",
    "x_train = np.load('trainImages.npy')\n",
    "y_train = np.load('trainLabels.npy')\n",
    "x_test = np.load('testImages.npy')\n",
    "y_test = np.load('testLabels.npy')"
   ]
  },
  {
   "cell_type": "code",
   "execution_count": 5,
   "metadata": {},
   "outputs": [
    {
     "data": {
      "image/png": "[encoded data removed]",
      "text/plain": [
       "<Figure size 432x288 with 1 Axes>"
      ]
     },
     "metadata": {
      "needs_background": "light"
     },
     "output_type": "display_data"
    },
    {
     "name": "stdout",
     "output_type": "stream",
     "text": [
      "[0 0 0 0 0 1 0 0 0 0]\n"
     ]
    }
   ],
   "source": [
    "plt.imshow(x_train[0,0], cmap=plt.cm.binary)\n",
    "plt.show()\n",
    "print(y_train[0])"
   ]
  },
  {
   "cell_type": "code",
   "execution_count": 6,
   "metadata": {},
   "outputs": [],
   "source": [
    "x_train = tf.keras.utils.normalize(x_train, axis=1)\n",
    "x_test = tf.keras.utils.normalize(x_test, axis=1)"
   ]
  },
  {
   "cell_type": "code",
   "execution_count": 7,
   "metadata": {},
   "outputs": [],
   "source": [
    "model = tf.keras.models.Sequential()  \n",
    "model.add(tf.keras.layers.Flatten())  # takes our 28x28 and makes it 1x784\n",
    "model.add(tf.keras.layers.Dense(128, activation=tf.nn.relu)) \n",
    "model.add(tf.keras.layers.Dense(128, activation=tf.nn.relu))  \n",
    "model.add(tf.keras.layers.Dense(10, activation=tf.nn.softmax))  \n"
   ]
  },
  {
   "cell_type": "code",
   "execution_count": 10,
   "metadata": {},
   "outputs": [],
   "source": [
    "model.compile(optimizer='adam',  \n",
    "              loss='categorical_crossentropy',  # how will we calculate our \"error.\" Neural network aims to minimize loss.\n",
    "              metrics=['accuracy'])  # what to track"
   ]
  },
  {
   "cell_type": "code",
   "execution_count": 13,
   "metadata": {},
   "outputs": [
    {
     "name": "stdout",
     "output_type": "stream",
     "text": [
      "Train on 60000 samples, validate on 10000 samples\n",
      "Epoch 1/5\n",
      "60000/60000 [==============================] - 7s 125us/step - loss: 0.2462 - acc: 0.9253 - val_loss: 0.1369 - val_acc: 0.9569\n",
      "Epoch 2/5\n",
      "60000/60000 [==============================] - 7s 123us/step - loss: 0.1154 - acc: 0.9641 - val_loss: 0.1480 - val_acc: 0.9531\n",
      "Epoch 3/5\n",
      "60000/60000 [==============================] - 8s 130us/step - loss: 0.0836 - acc: 0.9734 - val_loss: 0.1012 - val_acc: 0.9672\n",
      "Epoch 4/5\n",
      "60000/60000 [==============================] - 9s 145us/step - loss: 0.0648 - acc: 0.9785 - val_loss: 0.1337 - val_acc: 0.9589\n",
      "Epoch 5/5\n",
      "60000/60000 [==============================] - 9s 147us/step - loss: 0.0525 - acc: 0.9831 - val_loss: 0.1148 - val_acc: 0.9668\n"
     ]
    }
   ],
   "source": [
    "tensorboard = TensorBoard(log_dir=\"logs/{}\".format(time()),histogram_freq=1, write_graph=True, write_images=True)\n",
    "history = model.fit(x_train, y_train, epochs=5, verbose=1, validation_data = (x_test, y_test), callbacks=[tensorboard])   # train the model\n"
   ]
  },
  {
   "cell_type": "code",
   "execution_count": 14,
   "metadata": {},
   "outputs": [
    {
     "name": "stdout",
     "output_type": "stream",
     "text": [
      "10000/10000 [==============================] - 0s 23us/step\n"
     ]
    }
   ],
   "source": [
    "val_loss, val_acc = model.evaluate(x_test, y_test)  # evaluate the out of sample data with model"
   ]
  },
  {
   "cell_type": "code",
   "execution_count": 15,
   "metadata": {},
   "outputs": [
    {
     "name": "stdout",
     "output_type": "stream",
     "text": [
      "Loss for Test Data = 0.1147776050185319\n",
      "Accuracy for Test Data = 0.9668\n"
     ]
    }
   ],
   "source": [
    "print(\"Loss for Test Data = \" + str(val_loss))  # model's loss (error)\n",
    "print(\"Accuracy for Test Data = \" + str(val_acc))  # model's accuracy"
   ]
  },
  {
   "cell_type": "markdown",
   "metadata": {},
   "source": [
    "**Additional Plots**"
   ]
  },
  {
   "cell_type": "code",
   "execution_count": 16,
   "metadata": {},
   "outputs": [
    {
     "data": {
      "image/png": "[encoded data removed]",
      "text/plain": [
       "<Figure size 432x288 with 1 Axes>"
      ]
     },
     "metadata": {
      "needs_background": "light"
     },
     "output_type": "display_data"
    },
    {
     "data": {
      "image/png": "[encoded data removed]",
      "text/plain": [
       "<Figure size 432x288 with 1 Axes>"
      ]
     },
     "metadata": {
      "needs_background": "light"
     },
     "output_type": "display_data"
    }
   ],
   "source": [
    "plt.plot(history.history['acc'])\n",
    "plt.plot(history.history['val_acc'])\n",
    "plt.title('Model accuracy')\n",
    "plt.ylabel('Accuracy')\n",
    "plt.xlabel('Epoch')\n",
    "plt.legend(['Train', 'Test'], loc='upper left')\n",
    "plt.show()\n",
    "\n",
    "# Plot training & validation loss values\n",
    "plt.plot(history.history['loss'])\n",
    "plt.plot(history.history['val_loss'])\n",
    "plt.title('Model loss')\n",
    "plt.ylabel('Loss')\n",
    "plt.xlabel('Epoch')\n",
    "plt.legend(['Train', 'Test'], loc='upper left')\n",
    "plt.show()"
   ]
  },
  {
   "cell_type": "code",
   "execution_count": 17,
   "metadata": {},
   "outputs": [
    {
     "name": "stdout",
     "output_type": "stream",
     "text": [
      "_________________________________________________________________\n",
      "Layer (type)                 Output Shape              Param #   \n",
      "=================================================================\n",
      "flatten (Flatten)            multiple                  0         \n",
      "_________________________________________________________________\n",
      "dense (Dense)                multiple                  100480    \n",
      "_________________________________________________________________\n",
      "dense_1 (Dense)              multiple                  16512     \n",
      "_________________________________________________________________\n",
      "dense_2 (Dense)              multiple                  1290      \n",
      "=================================================================\n",
      "Total params: 118,282\n",
      "Trainable params: 118,282\n",
      "Non-trainable params: 0\n",
      "_________________________________________________________________\n"
     ]
    }
   ],
   "source": [
    "model.summary()"
   ]
  },
  {
   "cell_type": "markdown",
   "metadata": {},
   "source": [
    "*Note:*\n",
    "I run    \n",
    "```bash\n",
    "tensorboard --logdir=/home/darshan/CMSC828L/Problem\\ Set\\ 2/MNIST/logs  \n",
    "```\n",
    "in a new terminal to get tensorboard plots. Modify the directory address accordingly in your system\n"
   ]
  }
 ],
 "metadata": {
  "kernelspec": {
   "display_name": "Python 3",
   "language": "python",
   "name": "python3"
  },
  "language_info": {
   "codemirror_mode": {
    "name": "ipython",
    "version": 3
   },
   "file_extension": ".py",
   "mimetype": "text/x-python",
   "name": "python",
   "nbconvert_exporter": "python",
   "pygments_lexer": "ipython3",
   "version": "3.6.6"
  }
 },
 "nbformat": 4,
 "nbformat_minor": 2
}
