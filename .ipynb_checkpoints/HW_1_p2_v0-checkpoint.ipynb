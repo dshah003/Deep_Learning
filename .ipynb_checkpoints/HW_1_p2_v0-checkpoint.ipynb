{
 "cells": [
  {
   "cell_type": "code",
   "execution_count": 52,
   "metadata": {},
   "outputs": [
    {
     "name": "stdout",
     "output_type": "stream",
     "text": [
      "Populating the interactive namespace from numpy and matplotlib\n"
     ]
    },
    {
     "name": "stderr",
     "output_type": "stream",
     "text": [
      "C:\\Users\\12403\\AppData\\Local\\Continuum\\anaconda3\\lib\\site-packages\\IPython\\core\\magics\\pylab.py:160: UserWarning: pylab import has clobbered these variables: ['random']\n",
      "`%matplotlib` prevents importing * from pylab and numpy\n",
      "  \"\\n`%matplotlib` prevents importing * from pylab and numpy\"\n"
     ]
    }
   ],
   "source": [
    "import numpy as np\n",
    "import random\n",
    "import matplotlib.pyplot as plt\n",
    "\n",
    "%matplotlib inline\n",
    "%pylab inline"
   ]
  },
  {
   "cell_type": "code",
   "execution_count": null,
   "metadata": {},
   "outputs": [],
   "source": []
  },
  {
   "cell_type": "code",
   "execution_count": 53,
   "metadata": {},
   "outputs": [],
   "source": [
    "class ReLU_network():\n",
    "    def __init__(self, x,y):\n",
    "        self.inputLayerSize = 1\n",
    "        self.hiddenLayerSize = 3\n",
    "        self.outputLayerSize = 1\n",
    "        \n",
    "        self.input = x\n",
    "        self.y = y\n",
    "        self.m = x.shape[0]\n",
    "        \n",
    "        self.W1 = np.random.randn(self.inputLayerSize, self.hiddenLayerSize)\n",
    "        self.W2 = np.random.randn(self.hiddenLayerSize, self.inputLayerSize)\n",
    "        \n",
    "        self.B1 = np.random.randn(self.hiddenLayerSize)\n",
    "        self.B2 = np.random.randn()\n",
    "        \n",
    "    def ReLU(self, Z):\n",
    "        return np.maximum(Z, 0)\n",
    "    \n",
    "    def Feedforward(self, X):\n",
    "        #Input to Hidden Layer\n",
    "        self.z1 = np.dot(X, self.W1) + self.B1\n",
    "        self.a1 = self.ReLU(self.z1)\n",
    "        \n",
    "        #Hidden Layer to Output\n",
    "        self.z2 = np.dot(self.a1, self.W2) + self.B2\n",
    "        self.a2 = self.ReLU(self.z2)\n",
    "        return self.a2\n",
    "    \n",
    "    def dReLU(self, Z):\n",
    "        return 1.* (x>0)\n",
    "    \n",
    "    def costFunction(self, X):\n",
    "        m = len(self.y)\n",
    "        self.a2 = self.Feedforward(X)\n",
    "        Cost = (0.5*sum((self.y - self.a2)**2))/m\n",
    "        return Cost\n",
    "    \n",
    "    \n",
    "    def deltaCost(self):\n",
    "        self.a2 = self.Feedforward(self.input)\n",
    "        \n",
    "        delta2 = -(self.y - self.a2)\n",
    "        dJ_dW2 = np.dot(self.a1.T, delta2)/self.m\n",
    "        \n",
    "        dJ_B2 = np.sum(delta2)/self.m\n",
    "        \n",
    "        delta1 = np.dot(delta2, self.W2.T)*self.dReLU(self.z1)\n",
    "        dJ_dW1 = np.dot(self.input.T, delta1)/self.m\n",
    "        dJ_B1 = np.sum(delta1)/self.m\n",
    "        \n",
    "        return dJ_dW1, dJ_B1, dJ_dW2, dJ_B2\n",
    "    \n",
    "    def UpdateParameters(self, dJ_dW1, dJ_B1, dJ_dW2, dJ_B2):\n",
    "        self.W2 = self.W2 - (alpha*dJ_dW2)\n",
    "        self.B2 = self.B2 - (alpha*dJ_B2)\n",
    "        \n",
    "        self.W1 = self.W1 - (alpha*dJ_dW1)\n",
    "        self.B1 = self.B1 - (alpha*dJ_B1)\n",
    "               "
   ]
  },
  {
   "cell_type": "code",
   "execution_count": null,
   "metadata": {},
   "outputs": [],
   "source": []
  },
  {
   "cell_type": "code",
   "execution_count": 54,
   "metadata": {},
   "outputs": [],
   "source": [
    "def GenerateTestData(Size):\n",
    "    x = np.linspace(-np.pi, (np.pi*5), Size).reshape(Size, 1)\n",
    "    y = np.sin(x)\n",
    "    return x, y\n",
    "    "
   ]
  },
  {
   "cell_type": "code",
   "execution_count": 55,
   "metadata": {},
   "outputs": [
    {
     "data": {
      "text/plain": [
       "<matplotlib.legend.Legend at 0x24ad9524668>"
      ]
     },
     "execution_count": 55,
     "metadata": {},
     "output_type": "execute_result"
    },
    {
     "data": {
      "image/png": "[encoded data removed]",
      "text/plain": [
       "<Figure size 432x288 with 1 Axes>"
      ]
     },
     "metadata": {
      "needs_background": "light"
     },
     "output_type": "display_data"
    }
   ],
   "source": [
    "x,y = GenerateTestData(55)\n",
    "plot(x,y, color = 'red', marker = \".\")\n",
    "legend([\"Expected Output\"])"
   ]
  },
  {
   "cell_type": "code",
   "execution_count": 56,
   "metadata": {},
   "outputs": [],
   "source": [
    "NN = ReLU_network(x,y)"
   ]
  },
  {
   "cell_type": "code",
   "execution_count": 57,
   "metadata": {},
   "outputs": [],
   "source": [
    "Output = NN.Feedforward(x)"
   ]
  },
  {
   "cell_type": "code",
   "execution_count": 58,
   "metadata": {},
   "outputs": [
    {
     "data": {
      "text/plain": [
       "[<matplotlib.lines.Line2D at 0x24ad97fa358>]"
      ]
     },
     "execution_count": 58,
     "metadata": {},
     "output_type": "execute_result"
    },
    {
     "data": {
      "image/png": "[encoded data removed]",
      "text/plain": [
       "<Figure size 432x288 with 1 Axes>"
      ]
     },
     "metadata": {
      "needs_background": "light"
     },
     "output_type": "display_data"
    }
   ],
   "source": [
    "# print(Output)\n",
    "plot(Output, '.', color = \"green\")"
   ]
  },
  {
   "cell_type": "code",
   "execution_count": 59,
   "metadata": {},
   "outputs": [
    {
     "name": "stdout",
     "output_type": "stream",
     "text": [
      "18.526116990384946\n"
     ]
    }
   ],
   "source": [
    "cost = NN.costFunction(x)\n",
    "print(cost)"
   ]
  },
  {
   "cell_type": "code",
   "execution_count": 60,
   "metadata": {},
   "outputs": [
    {
     "name": "stdout",
     "output_type": "stream",
     "text": [
      "10.192301689254908\n"
     ]
    },
    {
     "data": {
      "image/png": "[encoded data removed]",
      "text/plain": [
       "<Figure size 432x288 with 1 Axes>"
      ]
     },
     "metadata": {
      "needs_background": "light"
     },
     "output_type": "display_data"
    }
   ],
   "source": [
    "NumOfIterations = 100\n",
    "alpha = 0.00001\n",
    "CostTracker = np.zeros(NumOfIterations)\n",
    "for i in range(NumOfIterations):\n",
    "    dJ_dW1, dJ_B1, dJ_dW2, dJ_B2 = NN.deltaCost()\n",
    "    NN.UpdateParameters(dJ_dW1, dJ_B1, dJ_dW2, dJ_B2)\n",
    "    Output_New = NN.Feedforward(x)\n",
    "    CostTracker[i] = NN.costFunction(x)\n",
    "\n",
    "plot(CostTracker)\n",
    "print(CostTracker[NumOfIterations-1])"
   ]
  },
  {
   "cell_type": "code",
   "execution_count": 61,
   "metadata": {},
   "outputs": [
    {
     "data": {
      "text/plain": [
       "<matplotlib.legend.Legend at 0x24ad98a7dd8>"
      ]
     },
     "execution_count": 61,
     "metadata": {},
     "output_type": "execute_result"
    },
    {
     "data": {
      "image/png": "[encoded data removed]",
      "text/plain": [
       "<Figure size 432x288 with 1 Axes>"
      ]
     },
     "metadata": {
      "needs_background": "light"
     },
     "output_type": "display_data"
    }
   ],
   "source": [
    "plot(Output_New, 'o')\n",
    "plot(y)\n",
    "legend([\"Estimation\", \"Actual\"])"
   ]
  },
  {
   "cell_type": "code",
   "execution_count": 62,
   "metadata": {},
   "outputs": [],
   "source": []
  },
  {
   "cell_type": "code",
   "execution_count": 63,
   "metadata": {},
   "outputs": [
    {
     "data": {
      "text/plain": [
       "55"
      ]
     },
     "execution_count": 63,
     "metadata": {},
     "output_type": "execute_result"
    }
   ],
   "source": []
  }
 ],
 "metadata": {
  "kernelspec": {
   "display_name": "Python 3",
   "language": "python",
   "name": "python3"
  },
  "language_info": {
   "codemirror_mode": {
    "name": "ipython",
    "version": 3
   },
   "file_extension": ".py",
   "mimetype": "text/x-python",
   "name": "python",
   "nbconvert_exporter": "python",
   "pygments_lexer": "ipython3",
   "version": "3.7.0"
  }
 },
 "nbformat": 4,
 "nbformat_minor": 2
}
