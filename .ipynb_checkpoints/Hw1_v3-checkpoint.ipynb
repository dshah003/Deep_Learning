{
 "cells": [
  {
   "cell_type": "code",
   "execution_count": 123,
   "metadata": {},
   "outputs": [
    {
     "name": "stdout",
     "output_type": "stream",
     "text": [
      "Populating the interactive namespace from numpy and matplotlib\n"
     ]
    },
    {
     "name": "stderr",
     "output_type": "stream",
     "text": [
      "C:\\Users\\12403\\AppData\\Local\\Continuum\\anaconda3\\lib\\site-packages\\IPython\\core\\magics\\pylab.py:160: UserWarning: pylab import has clobbered these variables: ['random']\n",
      "`%matplotlib` prevents importing * from pylab and numpy\n",
      "  \"\\n`%matplotlib` prevents importing * from pylab and numpy\"\n"
     ]
    }
   ],
   "source": [
    "import numpy as np\n",
    "import random\n",
    "# import matplotlib.pyplot as plt\n",
    "\n",
    "# %matplotlib inline\n",
    "%pylab inline\n",
    "\n",
    "\n",
    "NumOfIterations = 900"
   ]
  },
  {
   "cell_type": "code",
   "execution_count": 124,
   "metadata": {},
   "outputs": [],
   "source": [
    "class NeuralNetwork:\n",
    "    def __init__(self, x, y):\n",
    "        self.input = x\n",
    "        self.weights_1 = np.random.rand(self.input.shape[1])\n",
    "        self.bias_1 = np.random.rand(1)\n",
    "        self.y = y\n",
    "        self.a1_out = np.zeros([self.input.shape[1],1])\n",
    "#         self.output = np.zeros(self.y.shape[1]).reshape(-1,1)\n",
    "        \n",
    "    def Feedforward(self, X):\n",
    "        self.a1_out = np.dot(X, self.weights_1) + self.bias_1\n",
    "#         self.a1_out = self.a1_out.reshape(-1,1)\n",
    "#         self.a1_out = self.sigmoid(self.z1_out)\n",
    "        return self.a1_out \n",
    "    \n",
    "#     def sigmoid(self, z):\n",
    "#         return 1/(1+np.exp(-z))\n",
    "    \n",
    "    def cost(self): #self.a, self.y\n",
    "        C = 0.5*sum((self.y - self.a1_out)**2)\n",
    "#         C = C/ len(self.input)\n",
    "        return C\n",
    "    \n",
    "    def CalcParameters(self):\n",
    "        delta = self.y - self.a1_out\n",
    "        dCdW = np.dot(self.input.T, delta)\n",
    "        dCdb = np.sum(delta)\n",
    "        return dCdW, dCdb\n",
    "    \n",
    "    def UpdateParameters(self, dCdW, dCdb, alpha):\n",
    "        self.weights_1 = self.weights_1 + (alpha*dCdW)\n",
    "        self.bias_1 = self.bias_1 + (alpha*dCdb)"
   ]
  },
  {
   "cell_type": "code",
   "execution_count": 125,
   "metadata": {},
   "outputs": [],
   "source": [
    "def GenerateTestData(Size):\n",
    "    x = np.linspace(0, 10, Size).reshape(Size, 1)\n",
    "    y = np.zeros(Size).reshape(Size,1)\n",
    "    for n in range(Size):\n",
    "        y[n] = (2 * x[n]) + 6 #+ (np.random.randn())\n",
    "    \n",
    "    return x,y"
   ]
  },
  {
   "cell_type": "code",
   "execution_count": 126,
   "metadata": {},
   "outputs": [
    {
     "data": {
      "text/plain": [
       "<matplotlib.legend.Legend at 0x2217cdd1b70>"
      ]
     },
     "execution_count": 126,
     "metadata": {},
     "output_type": "execute_result"
    },
    {
     "data": {
      "image/png": "[encoded data removed]",
      "text/plain": [
       "<Figure size 432x288 with 1 Axes>"
      ]
     },
     "metadata": {
      "needs_background": "light"
     },
     "output_type": "display_data"
    }
   ],
   "source": [
    "x, y = GenerateTestData(10)\n",
    "plot(y, 'o', picker = 2, color = \"green\")\n",
    "plot(x,'o', picker =2, color = \"blue\")\n",
    "legend(['Output','Input'])\n",
    "# print(\"x = \" + str(x))\n",
    "# print(\"y = \" + str(y))"
   ]
  },
  {
   "cell_type": "code",
   "execution_count": 127,
   "metadata": {},
   "outputs": [],
   "source": [
    "NN = NeuralNetwork(x, y)"
   ]
  },
  {
   "cell_type": "code",
   "execution_count": 128,
   "metadata": {},
   "outputs": [
    {
     "name": "stdout",
     "output_type": "stream",
     "text": [
      "[[ 6.        ]\n",
      " [ 8.22222222]\n",
      " [10.44444444]\n",
      " [12.66666667]\n",
      " [14.88888889]\n",
      " [17.11111111]\n",
      " [19.33333333]\n",
      " [21.55555556]\n",
      " [23.77777778]\n",
      " [26.        ]]\n"
     ]
    }
   ],
   "source": [
    "Output = NN.Feedforward(x)\n",
    "# Output = Output.reshape(-1,1)\n",
    "print(y)\n",
    "# print(\"Orig. Output \" + str(y))"
   ]
  },
  {
   "cell_type": "code",
   "execution_count": 129,
   "metadata": {},
   "outputs": [
    {
     "data": {
      "text/plain": [
       "<matplotlib.legend.Legend at 0x2217ce37a58>"
      ]
     },
     "execution_count": 129,
     "metadata": {},
     "output_type": "execute_result"
    },
    {
     "data": {
      "image/png": "[encoded data removed]",
      "text/plain": [
       "<Figure size 432x288 with 1 Axes>"
      ]
     },
     "metadata": {
      "needs_background": "light"
     },
     "output_type": "display_data"
    }
   ],
   "source": [
    "plot(y)\n",
    "plot(Output)\n",
    "legend(['Actual Output: y', 'Estimation : a'])"
   ]
  },
  {
   "cell_type": "code",
   "execution_count": 130,
   "metadata": {},
   "outputs": [
    {
     "name": "stdout",
     "output_type": "stream",
     "text": [
      "8566.248138005834\n"
     ]
    }
   ],
   "source": [
    "cost = NN.cost()\n",
    "print(cost)"
   ]
  },
  {
   "cell_type": "code",
   "execution_count": 131,
   "metadata": {},
   "outputs": [],
   "source": [
    "CostTracker = np.zeros(NumOfIterations)\n",
    "for i in range(NumOfIterations):\n",
    "    dW, dB = NN.CalcParameters()\n",
    "# print(\"dW = \" + str(dW))\n",
    "# print(\"dB = \" + str(dB))\n",
    "    alpha = 0.00001\n",
    "    NN.UpdateParameters(dW, dB, alpha)\n",
    "    Output_new = NN.Feedforward(x)\n",
    "#     plot(Output)\n",
    "#     plot(Output_new[5])\n",
    "#     legend([\"Prev Output\", \"New_Output\"])\n",
    "#     print(\"New Output = \" + str(Output_new))\n",
    "    CostTracker[i] = NN.cost()\n"
   ]
  },
  {
   "cell_type": "code",
   "execution_count": 132,
   "metadata": {},
   "outputs": [
    {
     "data": {
      "text/plain": [
       "[<matplotlib.lines.Line2D at 0x2217ce9e390>]"
      ]
     },
     "execution_count": 132,
     "metadata": {},
     "output_type": "execute_result"
    },
    {
     "data": {
      "image/png": "[encoded data removed]",
      "text/plain": [
       "<Figure size 432x288 with 1 Axes>"
      ]
     },
     "metadata": {
      "needs_background": "light"
     },
     "output_type": "display_data"
    }
   ],
   "source": [
    "plot(CostTracker)"
   ]
  },
  {
   "cell_type": "code",
   "execution_count": 135,
   "metadata": {},
   "outputs": [
    {
     "data": {
      "text/plain": [
       "66.36843958997562"
      ]
     },
     "execution_count": 135,
     "metadata": {},
     "output_type": "execute_result"
    }
   ],
   "source": [
    "CostTracker[899]"
   ]
  },
  {
   "cell_type": "code",
   "execution_count": 134,
   "metadata": {},
   "outputs": [],
   "source": [
    "# Output = np.zeros(NumOfIterations)\n",
    "# C = np.zeros(NumOfIterations)\n",
    "\n",
    "# for i in range(NumOfIterations):\n",
    "#     Output = NN.Feedforward()\n",
    "#     C[i] = NN.cost()\n",
    "#     print(C[i])\n",
    "#     NN.UpdateParameters(0.01)\n",
    "    \n",
    "    \n"
   ]
  },
  {
   "cell_type": "code",
   "execution_count": null,
   "metadata": {},
   "outputs": [],
   "source": [
    "NN.a"
   ]
  }
 ],
 "metadata": {
  "kernelspec": {
   "display_name": "Python 3",
   "language": "python",
   "name": "python3"
  },
  "language_info": {
   "codemirror_mode": {
    "name": "ipython",
    "version": 3
   },
   "file_extension": ".py",
   "mimetype": "text/x-python",
   "name": "python",
   "nbconvert_exporter": "python",
   "pygments_lexer": "ipython3",
   "version": "3.7.0"
  }
 },
 "nbformat": 4,
 "nbformat_minor": 2
}
