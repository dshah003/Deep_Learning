{
 "cells": [
  {
   "cell_type": "code",
   "execution_count": 1,
   "metadata": {},
   "outputs": [],
   "source": [
    "import tensorflow"
   ]
  },
  {
   "cell_type": "code",
   "execution_count": 2,
   "metadata": {},
   "outputs": [],
   "source": [
    "import numpy as np\n",
    "import pandas as pd\n",
    "from sklearn.model_selection import train_test_split\n",
    "import matplotlib.pyplot as plt\n",
    "import torch.nn.functional as F"
   ]
  },
  {
   "cell_type": "code",
   "execution_count": 3,
   "metadata": {},
   "outputs": [],
   "source": [
    "train_data = np.load('flower_imgs.npy')\n",
    "labels = np.load('flower_labels.npy')\n",
    "x_train, x_test, y_train, y_test = train_test_split(train_data, labels,\n",
    "                                                    stratify=labels, \n",
    "                                                    test_size=0.10)"
   ]
  },
  {
   "cell_type": "code",
   "execution_count": 4,
   "metadata": {},
   "outputs": [],
   "source": [
    "# x_train, x_test, y_train, y_test = x_train.astype(np.float32), x_test.astype(np.float32), y_train.astype(np.float32), y_test.astype(np.float32) "
   ]
  },
  {
   "cell_type": "code",
   "execution_count": 5,
   "metadata": {
    "scrolled": true
   },
   "outputs": [
    {
     "name": "stdout",
     "output_type": "stream",
     "text": [
      "1\n"
     ]
    },
    {
     "data": {
      "image/png": "[encoded data removed]",
      "text/plain": [
       "<Figure size 432x288 with 1 Axes>"
      ]
     },
     "metadata": {
      "needs_background": "light"
     },
     "output_type": "display_data"
    }
   ],
   "source": [
    "plt.imshow(x_train[590])\n",
    "print(y_train[590])"
   ]
  },
  {
   "cell_type": "code",
   "execution_count": 6,
   "metadata": {},
   "outputs": [],
   "source": [
    "import torch\n",
    "import torch.nn as nn\n",
    "from torch.autograd import Variable\n",
    "import torch.optim as optim\n",
    "\n",
    "from torch.utils.data import Dataset\n",
    "from torch.utils.data import DataLoader"
   ]
  },
  {
   "cell_type": "code",
   "execution_count": 7,
   "metadata": {},
   "outputs": [],
   "source": [
    "class ImgLoader(Dataset):\n",
    "    def __init__(self, x, y,iscuda=False):\n",
    "        self.X = np.array(x, dtype = np.float32)\n",
    "        self.y = np.array(y, dtype = np.float32)\n",
    "#         self.cuda = iscuda\n",
    "    \n",
    "    def __getitem__(self, index):\n",
    "        x_val = self.X[index]\n",
    "        x_val = torch.from_numpy(x_val).permute(2, 1, 0)\n",
    "        y_val = torch.from_numpy(np.array([self.y[index]]))\n",
    "#         if self.cuda:\n",
    "#             x_val = x_val.cuda()\n",
    "#             y_val = y_val.cuda()\n",
    "        return x_val, y_val\n",
    "\n",
    "    def __len__(self):\n",
    "        return len(self.X)"
   ]
  },
  {
   "cell_type": "code",
   "execution_count": 8,
   "metadata": {},
   "outputs": [],
   "source": [
    "class ConvClassifier(nn.Module):\n",
    "    def __init__(self):\n",
    "        super(ConvClassifier, self).__init__()\n",
    "        self.conv1 = nn.Conv2d(3, 5, kernel_size=3, padding=1)\n",
    "        self.bn1 = nn.BatchNorm2d(5)\n",
    "        self.conv2 = nn.Conv2d(5, 16, kernel_size=3, padding=1, stride=1)\n",
    "        self.bn2 = nn.BatchNorm2d(16)\n",
    "        self.conv3 = nn.Conv2d(16, 32, kernel_size=3, padding=1, stride=1)\n",
    "        self.bn3 = nn.BatchNorm2d(32)\n",
    "\n",
    "        self.conv4 = nn.Conv2d(32, 16, kernel_size=3, padding=1, stride=1)\n",
    "        self.bn4 = nn.BatchNorm2d(16)\n",
    "\n",
    "        self.conv5 = nn.Conv2d(16, 16, kernel_size=5, padding=1, stride=2)\n",
    "        self.bn5 = nn.BatchNorm2d(16)\n",
    "        self.fc1 = nn.Linear(3600, 10)\n",
    "        self.fc2 = nn.Linear(10, 10)\n",
    "        \n",
    "    def num_flat_features(self, x):\n",
    "        size = x.size()[1:]  # all dimensions except the batch dimension\n",
    "        num_features = 1\n",
    "        for s in size:\n",
    "            num_features *= s\n",
    "        return num_features\n",
    "        \n",
    "#     def forward(self, x):\n",
    "#         self.conv_l1 = self.conv1(x)\n",
    "#         self.conv_l1 = self.bn1(self.conv_l1)\n",
    "        \n",
    "#         self.conv_l2 = F.relu(self.conv2(self.conv_l1))\n",
    "#         self.conv_l2 = self.bn2(self.conv_l2)\n",
    "        \n",
    "#         self.conv_l3 = F.relu(self.conv3(self.conv_l2))\n",
    "#         self.conv_l3 = self.bn3(self.conv_l3)\n",
    "\n",
    "#         self.conv_l4 = F.relu(self.conv4(self.conv_l3))\n",
    "#         self.conv_l4 = self.bn4(self.conv_l4)\n",
    "\n",
    "#         self.conv_l5 = F.relu(self.conv5(self.conv_l4))\n",
    "#         self.conv_l5 = self.bn5(self.conv_l5)\n",
    "# #         self.conv_l5\n",
    "\n",
    "#         self.fc_l1 = self.conv_l5.view(-1, self.num_flat_features(self.conv_l5))\n",
    "#         self.fc_l1 = F.relu(self.fc1(self.fc_l1))\n",
    "#         self.fc_l2 = self.fc2(self.fc_l1) \n",
    "        \n",
    "#         return F.log_softmax(self.fc_l2)"
   ]
  },
  {
   "cell_type": "code",
   "execution_count": 9,
   "metadata": {},
   "outputs": [],
   "source": [
    "use_cuda = torch.cuda.is_available()\n",
    "img_loader = ImgLoader(x_train, y_train, use_cuda)"
   ]
  },
  {
   "cell_type": "code",
   "execution_count": null,
   "metadata": {},
   "outputs": [],
   "source": []
  },
  {
   "cell_type": "code",
   "execution_count": 10,
   "metadata": {},
   "outputs": [],
   "source": [
    "trainloader = DataLoader(img_loader, batch_size = 5, shuffle=True, num_workers=4)"
   ]
  },
  {
   "cell_type": "code",
   "execution_count": 11,
   "metadata": {},
   "outputs": [],
   "source": [
    "def eval(model):\n",
    "    model.train(False)\n",
    "    count = 0\n",
    "    for x,y in zip(x_test,y_test):\n",
    "        x = torch.from_numpy(np.array([x])).permute(0, 3, 1, 2)\n",
    "        x = x.type(torch.FloatTensor)\n",
    "        if use_cuda:\n",
    "            x = x.cuda()\n",
    "        out = model(Variable(x))\n",
    "#         print(out.shape)\n",
    "        label = np.argmax(out.data.cpu().numpy()) # needs to be optimized\n",
    "        if y == label:\n",
    "            count += 1\n",
    "    print(count * 1.0 / len(x_test))"
   ]
  },
  {
   "cell_type": "code",
   "execution_count": 12,
   "metadata": {},
   "outputs": [],
   "source": [
    "epochs = 10\n",
    "criterion = nn.CrossEntropyLoss()\n",
    "net = ConvClassifier()\n",
    "if use_cuda:\n",
    "    net = net.cuda()\n",
    "    \n",
    "    "
   ]
  },
  {
   "cell_type": "code",
   "execution_count": 13,
   "metadata": {
    "scrolled": false
   },
   "outputs": [
    {
     "name": "stderr",
     "output_type": "stream",
     "text": [
      "/home/yash/anaconda3/envs/dl/lib/python3.6/site-packages/ipykernel/__main__.py:47: UserWarning: Implicit dimension choice for log_softmax has been deprecated. Change the call to include dim=X as an argument.\n",
      "/home/yash/anaconda3/envs/dl/lib/python3.6/site-packages/ipykernel/__main__.py:20: UserWarning: invalid index of a 0-dim tensor. This will be an error in PyTorch 0.5. Use tensor.item() to convert a 0-dim tensor to a Python number\n"
     ]
    },
    {
     "name": "stdout",
     "output_type": "stream",
     "text": [
      "Epoch 1 Loss 1.5287  \n",
      "test accuracy\n",
      "0.3348729792147806\n",
      "Epoch 2 Loss 1.2386  \n",
      "test accuracy\n",
      "0.49653579676674364\n",
      "Epoch 3 Loss 1.1176  \n",
      "test accuracy\n",
      "0.46882217090069284\n",
      "Epoch 4 Loss 1.0272  \n",
      "test accuracy\n",
      "0.5404157043879908\n",
      "Epoch 5 Loss 0.9413  \n",
      "test accuracy\n",
      "0.535796766743649\n",
      "Epoch 6 Loss 0.8657  \n",
      "test accuracy\n",
      "0.5450346420323325\n",
      "Epoch 7 Loss 0.7944  \n",
      "test accuracy\n",
      "0.5242494226327945\n",
      "Epoch 8 Loss 0.7215  \n",
      "test accuracy\n",
      "0.5242494226327945\n",
      "Epoch 9 Loss 0.6521  \n",
      "test accuracy\n",
      "0.5080831408775982\n",
      "Epoch 10 Loss 0.5552  \n",
      "test accuracy\n",
      "0.5242494226327945\n"
     ]
    }
   ],
   "source": [
    "optimizer = optim.SGD(params=net.parameters(), lr=0.003)\n",
    "\n",
    "for epoch in range(epochs):\n",
    "    losses = []\n",
    "    net.train(True)\n",
    "    for i ,(x, y) in enumerate(trainloader):\n",
    "        if use_cuda:\n",
    "            x = x.cuda()\n",
    "            y = y.cuda()\n",
    "        optimizer.zero_grad()\n",
    "\n",
    "        inputs =  Variable(x)\n",
    "        output = net(inputs)\n",
    "        targets = Variable(y.squeeze(1))\n",
    "        targets = targets.type(torch.LongTensor)\n",
    "\n",
    "        loss = criterion(output, targets)\n",
    "        loss.backward()\n",
    "        optimizer.step()\n",
    "        losses.append(loss.data[0])\n",
    "#         break\n",
    "#     break\n",
    "    if (epoch+1) % 1 == 0:\n",
    "        print('Epoch %d Loss %.4f  ' % (epoch+1, np.average(losses)))\n",
    "        print('test accuracy')\n",
    "        eval(net)"
   ]
  },
  {
   "cell_type": "code",
   "execution_count": null,
   "metadata": {},
   "outputs": [],
   "source": []
  },
  {
   "cell_type": "code",
   "execution_count": null,
   "metadata": {},
   "outputs": [],
   "source": []
  }
 ],
 "metadata": {
  "kernelspec": {
   "display_name": "Python [conda env:dl]",
   "language": "python",
   "name": "conda-env-dl-py"
  },
  "language_info": {
   "codemirror_mode": {
    "name": "ipython",
    "version": 3
   },
   "file_extension": ".py",
   "mimetype": "text/x-python",
   "name": "python",
   "nbconvert_exporter": "python",
   "pygments_lexer": "ipython3",
   "version": "3.6.6"
  }
 },
 "nbformat": 4,
 "nbformat_minor": 2
}
