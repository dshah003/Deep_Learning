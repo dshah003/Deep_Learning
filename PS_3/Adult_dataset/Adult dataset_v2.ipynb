{
 "cells": [
  {
   "cell_type": "markdown",
   "metadata": {},
   "source": [
    "# Adult Income dataset"
   ]
  },
  {
   "cell_type": "code",
   "execution_count": 1,
   "metadata": {},
   "outputs": [],
   "source": [
    "import numpy as np\n",
    "from sklearn.model_selection import train_test_split\n",
    "import torch\n",
    "import torch.nn as nn\n",
    "import torchvision.transforms as transforms\n",
    "from torch.autograd import Variable\n",
    "import torch.utils.data as Data\n",
    "import torch.nn.functional as F\n",
    "\n",
    "import torch.optim as optim\n",
    "\n",
    "from torch.utils.data import Dataset\n",
    "from torch.utils.data import DataLoader"
   ]
  },
  {
   "cell_type": "code",
   "execution_count": 2,
   "metadata": {},
   "outputs": [],
   "source": [
    "x = np.load('data.npy')\n",
    "y = np.load('labels.npy')"
   ]
  },
  {
   "cell_type": "code",
   "execution_count": 3,
   "metadata": {},
   "outputs": [
    {
     "name": "stdout",
     "output_type": "stream",
     "text": [
      "(45222, 67)\n",
      "(45222,)\n",
      "[35  9  0  0 40  0  0  0  0  0  1  0  0  0  0  0  0  0  0  0  0  0  0  1\n",
      "  0  0  0  0  0  0  1  0  0  0  0  0  0  0  0  0  0  0  1  0  0  0  0  0\n",
      "  0  1  0  0  0  0  0  0  0  0  0  1  0  1  1  0  0  0  0]\n"
     ]
    }
   ],
   "source": [
    "print(x.shape)\n",
    "print(y.shape)\n",
    "print(x[3])"
   ]
  },
  {
   "cell_type": "code",
   "execution_count": 4,
   "metadata": {},
   "outputs": [],
   "source": [
    "x_train, x_test, y_train, y_test = train_test_split(x, y,\n",
    "                                                    stratify=y, \n",
    "                                                    test_size=0.15)"
   ]
  },
  {
   "cell_type": "code",
   "execution_count": 5,
   "metadata": {},
   "outputs": [
    {
     "name": "stdout",
     "output_type": "stream",
     "text": [
      "(6784, 67)\n",
      "(6784,)\n"
     ]
    },
    {
     "data": {
      "text/plain": [
       "6784"
      ]
     },
     "execution_count": 5,
     "metadata": {},
     "output_type": "execute_result"
    }
   ],
   "source": [
    "print(x_test.shape)\n",
    "print(y_test.shape)\n",
    "len(x_test)"
   ]
  },
  {
   "cell_type": "code",
   "execution_count": 6,
   "metadata": {},
   "outputs": [],
   "source": [
    "class ImgLoader(Dataset):\n",
    "    def __init__(self, x, y,iscuda=False):\n",
    "        self.X = np.array(x, dtype = np.float32)\n",
    "        self.y = np.array(y, dtype = np.float32)\n",
    "#         self.cuda = iscuda\n",
    "    \n",
    "    def __getitem__(self, index):\n",
    "        x_val = self.X[index]\n",
    "        x_val = torch.from_numpy(x_val).permute(2, 1, 0)\n",
    "        y_val = torch.from_numpy(np.array([self.y[index]]))\n",
    "#         if self.cuda:\n",
    "#             x_val = x_val.cuda()\n",
    "#             y_val = y_val.cuda()\n",
    "        return x_val, y_val\n",
    "\n",
    "    def __len__(self):\n",
    "        return len(self.X)"
   ]
  },
  {
   "cell_type": "code",
   "execution_count": 7,
   "metadata": {},
   "outputs": [],
   "source": [
    "# data_tensor = torch.from_numpy(x_test).float()\n",
    "# target_tensor = torch.from_numpy(y_test).long()\n",
    "# test_dataset = Data.TensorDataset(data_tensor, target_tensor)"
   ]
  },
  {
   "cell_type": "code",
   "execution_count": 9,
   "metadata": {},
   "outputs": [],
   "source": [
    "batch_size = 3\n",
    "\n",
    "data_tensor = torch.from_numpy(x_train).float()\n",
    "target_tensor = torch.from_numpy(y_train).long()\n",
    "train_dataset = Data.TensorDataset(data_tensor, target_tensor)\n",
    "\n",
    "train_loader = DataLoader(dataset = train_dataset, batch_size = batch_size, shuffle = True)"
   ]
  },
  {
   "cell_type": "code",
   "execution_count": 10,
   "metadata": {},
   "outputs": [],
   "source": [
    "data_tensor = torch.from_numpy(x_test).float()\n",
    "target_tensor = torch.from_numpy(y_test).long()\n",
    "test_dataset = Data.TensorDataset(data_tensor, target_tensor)\n",
    "\n",
    "test_loader = torch.utils.data.DataLoader(dataset = test_dataset,\n",
    "                                          batch_size = batch_size,\n",
    "                                          shuffle = False)"
   ]
  },
  {
   "cell_type": "code",
   "execution_count": 11,
   "metadata": {},
   "outputs": [],
   "source": [
    "input_size = 67\n",
    "h_size1 = 55\n",
    "h_size2 = 35\n",
    "num_epochs = 5\n",
    "num_classes = 2"
   ]
  },
  {
   "cell_type": "code",
   "execution_count": 15,
   "metadata": {},
   "outputs": [],
   "source": [
    "class Net(nn.Module):\n",
    "    def __init__(self, input_size, h_size1, h_size2, num_classes):\n",
    "        super(Net, self).__init__()\n",
    "        self.fc1 = nn.Sequential(\n",
    "            nn.Linear(input_size, h_size1),\n",
    "            nn.ReLU())\n",
    "        self.fc2 = nn.Sequential(\n",
    "            nn.Linear(h_size1, h_size2),\n",
    "            nn.ReLU())\n",
    "        self.fc3 = nn.Sequential(\n",
    "            nn.Linear(h_size2,num_classes))\n",
    "        \n",
    "    def forward(self, x):\n",
    "        out = self.fc1(x)\n",
    "        out = self.fc2(out)\n",
    "        out = self.fc3(out)\n",
    "        return out"
   ]
  },
  {
   "cell_type": "code",
   "execution_count": null,
   "metadata": {},
   "outputs": [],
   "source": [
    "# dataloaders = dict()\n",
    "# dataloaders['train'] = train_loader\n",
    "# dataloaders['val'] = test_loader\n",
    "\n",
    "# dataset_sizes = {'train': len(x_train), 'val':len(x_train)}\n",
    "# use_gpu = torch.cuda.is_available()"
   ]
  },
  {
   "cell_type": "code",
   "execution_count": 26,
   "metadata": {},
   "outputs": [],
   "source": [
    "def eval(model):\n",
    "    model.train(False)\n",
    "    count = 0\n",
    "    for x,y in zip(x_test,y_test):\n",
    "        x = torch.from_numpy(np.array([x]))#.permute(0, 3, 1, 2)\n",
    "        x = x.type(torch.FloatTensor)\n",
    "        if use_cuda:\n",
    "            x = x.cuda()\n",
    "        out = model(Variable(x))\n",
    "#         print(out.shape)\n",
    "        label = np.argmax(out.data.cpu().numpy()) # needs to be optimized\n",
    "        if y == label:\n",
    "            count += 1\n",
    "    print(count * 1.0 / len(x_test))"
   ]
  },
  {
   "cell_type": "code",
   "execution_count": 18,
   "metadata": {},
   "outputs": [],
   "source": [
    "epochs = 10\n",
    "criterion = nn.CrossEntropyLoss()\n",
    "net = Net(input_size, h_size1, h_size2, num_classes)\n",
    "use_cuda = torch.cuda.is_available()\n",
    "if use_cuda:\n",
    "    net = net.cuda()"
   ]
  },
  {
   "cell_type": "code",
   "execution_count": 19,
   "metadata": {},
   "outputs": [],
   "source": [
    "# criterion = nn.CrossEntropyLoss()\n",
    "optimizer = torch.optim.Adam(net.parameters(), lr= 0.001)"
   ]
  },
  {
   "cell_type": "code",
   "execution_count": 27,
   "metadata": {},
   "outputs": [
    {
     "name": "stderr",
     "output_type": "stream",
     "text": [
      "/home/yash/anaconda3/envs/dl/lib/python3.6/site-packages/ipykernel/__main__.py:20: UserWarning: invalid index of a 0-dim tensor. This will be an error in PyTorch 0.5. Use tensor.item() to convert a 0-dim tensor to a Python number\n"
     ]
    },
    {
     "name": "stdout",
     "output_type": "stream",
     "text": [
      "Epoch 1 Loss 0.3469  \n",
      "test accuracy\n",
      "0.8378537735849056\n",
      "Epoch 2 Loss 0.3425  \n",
      "test accuracy\n",
      "0.8421285377358491\n",
      "Epoch 3 Loss 0.3372  \n",
      "test accuracy\n",
      "0.8391804245283019\n",
      "Epoch 4 Loss 0.3353  \n",
      "test accuracy\n",
      "0.8427181603773585\n",
      "Epoch 5 Loss 0.3327  \n",
      "test accuracy\n",
      "0.8433077830188679\n",
      "Epoch 6 Loss 0.3316  \n",
      "test accuracy\n",
      "0.8310731132075472\n",
      "Epoch 7 Loss 0.3320  \n",
      "test accuracy\n",
      "0.8343160377358491\n",
      "Epoch 8 Loss 0.3290  \n",
      "test accuracy\n",
      "0.8375589622641509\n",
      "Epoch 9 Loss 0.3305  \n",
      "test accuracy\n",
      "0.8461084905660378\n",
      "Epoch 10 Loss 0.3303  \n",
      "test accuracy\n",
      "0.8465507075471698\n"
     ]
    }
   ],
   "source": [
    "# optimizer = optim.SGD(params=net.parameters(), lr=0.003)\n",
    "\n",
    "for epoch in range(epochs):\n",
    "    losses = []\n",
    "    net.train(True)\n",
    "    for i ,(x, y) in enumerate(train_loader):\n",
    "        if use_cuda:\n",
    "            x = x.cuda()\n",
    "            y = y.cuda()\n",
    "        optimizer.zero_grad()\n",
    "\n",
    "        inputs =  Variable(x)\n",
    "        output = net(inputs)\n",
    "        targets = Variable(y.squeeze(-1))\n",
    "        targets = targets.type(torch.LongTensor)\n",
    "\n",
    "        loss = criterion(output, targets)\n",
    "        loss.backward()\n",
    "        optimizer.step()\n",
    "        losses.append(loss.data[0])\n",
    "#         break\n",
    "#     break\n",
    "    if (epoch+1) % 1 == 0:\n",
    "        print('Epoch %d Loss %.4f  ' % (epoch+1, np.average(losses)))\n",
    "        print('test accuracy')\n",
    "        eval(net)"
   ]
  },
  {
   "cell_type": "code",
   "execution_count": 24,
   "metadata": {},
   "outputs": [
    {
     "data": {
      "text/plain": [
       "tensor([0, 1, 1])"
      ]
     },
     "execution_count": 24,
     "metadata": {},
     "output_type": "execute_result"
    }
   ],
   "source": [
    "y.squeeze(-1)\n"
   ]
  },
  {
   "cell_type": "code",
   "execution_count": null,
   "metadata": {},
   "outputs": [],
   "source": [
    "\n",
    "# def train_model(model, criterion,optimizer, num_epochs):\n",
    "#     f = open(\"Iterations.txt\", \"w+\")\n",
    "#     best_model_wts = model.state_dict()\n",
    "#     best_val_acc = 0.0\n",
    "#     best_train_acc = 0.0\n",
    "#     for epoch in range(num_epochs):\n",
    "#         print('Epoch {}/{}'.format(epoch, num_epochs-1))\n",
    "#         print('-' * 10)\n",
    "#         for phase in ['train', 'val']:\n",
    "#             if phase == 'train':\n",
    "#                 model.train(True)\n",
    "#             else:\n",
    "#                 model.train(False)\n",
    "#         running_loss = 0.0\n",
    "#         running_corrects = 0.0\n",
    "#         for data in dataloaders[phase]:\n",
    "#             inputs, label = data\n",
    "#             if use_gpu:\n",
    "#                 inputs = Variable(input.cuda())\n",
    "#                 labels = Variable(labels.cuda())\n",
    "#             else:\n",
    "#                 inputs, labels = Variable(inputs), Variable(label)\n",
    "#             optimizer.zero_grad()\n",
    "#             outputs = model(inputs)\n",
    "#             _, preds = torch.max(outputs.data, 1)\n",
    "#             loss = criterion(outputs, labels)\n",
    "            \n",
    "#             if phase == 'train':\n",
    "#                 loss.backward()\n",
    "#                 optimizer.step()\n",
    "#             running_loss += loss.data[0]\n",
    "#             running_corrects += torch.sum(preds == label)\n",
    "#             epoch_loss = running_loss/ dataset_sizes[phase]\n",
    "#             epoch_acc = running_corrects / dataset_sizes[phase]\n",
    "\n",
    "#         print('{} Loss: {:.8f} Accuracy: {:.4f}'.format(phase, epoch_loss, epoch_acc))\n",
    "#         f.write('{} Loss: {:.8f} Accuracy: {:.4f}\\n'.format(phase, epoch_loss, epoch_acc))    \n",
    "            \n",
    "#         if phase == 'val' and epoch_acc > best_val_acc:\n",
    "#             best_val_acc = epoch_acc\n",
    "#             best_model_wts = model.state_dict()\n",
    "#         if phase == 'train' and epoch_acc > best_train_acc:\n",
    "#             best_train_acc = epoch_acc\n",
    "#             best_model_wts = model.state_dict()\n",
    "#     f.close()\n",
    "#     print('Best Val Acc: {:4f}'.format(best_val_acc))\n",
    "#     model.load_state_dict(best_model_wts)\n",
    "#     return model, best_train_acc, best_val_acc\n",
    "\n",
    "# if use_gpu:\n",
    "#     model_ft, train_acc, test_acc = train_model(net.cuda(), criterion, optimizer, num_epochs)\n",
    "# else:\n",
    "#     model_ft, train_acc, test_acc = train_model(net, criterion, optimizer, num_epochs)"
   ]
  },
  {
   "cell_type": "code",
   "execution_count": null,
   "metadata": {},
   "outputs": [],
   "source": []
  },
  {
   "cell_type": "code",
   "execution_count": null,
   "metadata": {},
   "outputs": [],
   "source": []
  },
  {
   "cell_type": "code",
   "execution_count": null,
   "metadata": {},
   "outputs": [],
   "source": []
  },
  {
   "cell_type": "code",
   "execution_count": null,
   "metadata": {},
   "outputs": [],
   "source": []
  },
  {
   "cell_type": "code",
   "execution_count": null,
   "metadata": {},
   "outputs": [],
   "source": []
  },
  {
   "cell_type": "code",
   "execution_count": null,
   "metadata": {},
   "outputs": [],
   "source": []
  },
  {
   "cell_type": "code",
   "execution_count": null,
   "metadata": {},
   "outputs": [],
   "source": []
  },
  {
   "cell_type": "code",
   "execution_count": null,
   "metadata": {},
   "outputs": [],
   "source": []
  }
 ],
 "metadata": {
  "kernelspec": {
   "display_name": "Python [conda env:dl]",
   "language": "python",
   "name": "conda-env-dl-py"
  },
  "language_info": {
   "codemirror_mode": {
    "name": "ipython",
    "version": 3
   },
   "file_extension": ".py",
   "mimetype": "text/x-python",
   "name": "python",
   "nbconvert_exporter": "python",
   "pygments_lexer": "ipython3",
   "version": "3.6.6"
  }
 },
 "nbformat": 4,
 "nbformat_minor": 2
}
